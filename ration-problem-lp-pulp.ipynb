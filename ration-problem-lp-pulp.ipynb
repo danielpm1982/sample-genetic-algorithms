{
 "cells": [
  {
   "cell_type": "markdown",
   "id": "9e16338d-409e-4319-a63c-885faf7f0d74",
   "metadata": {},
   "source": [
    "## Linear programming example using pulp lib - animal feed ration"
   ]
  },
  {
   "cell_type": "markdown",
   "id": "3cb3896e-0b5e-409c-aec7-8c78e5f2c8ad",
   "metadata": {},
   "source": [
    "#### This script exemplifies a problem of formulating animal feed rations, by modeling an objective function (minimum price), based on decision variables (ingredients' percentage) and some restrictions regarding the ingredients. The objective is to find the percentage or mass of each ingredient (totalling 1=100% or 1kg), so that the minimum price (cost) is reached for the final ration mixture. Part of restrictions concerns to the minimum protein and calcium at the final mixture (in percentage), considering protein and calcium content by each individual ingredient (per kg). After modeling, the solver is solved, and results are returned, with the final minimum price of the ration (per kg) (objective function's value), as well as the percentage of each ingredient at that final feed product (decision variables' values). Here, no evolutionary computation is done (including genetic algorithms), only traditional deterministic linear programming, returning always the same optimal result. For a bigger number of variables, this problem would turn difficult to be computed, if not impossible. Here, only three decision variables are used."
   ]
  },
  {
   "cell_type": "code",
   "execution_count": 12,
   "id": "e32c109e-37dd-4c40-a986-65fa1c573acc",
   "metadata": {},
   "outputs": [],
   "source": [
    "# pip install pulp // do NOT use Conda for installing this lib module. Only works with pip install"
   ]
  },
  {
   "cell_type": "code",
   "execution_count": 13,
   "id": "485fdf3f-fa31-4e25-8692-26c0af03e280",
   "metadata": {},
   "outputs": [],
   "source": [
    "import pulp"
   ]
  },
  {
   "cell_type": "code",
   "execution_count": 14,
   "id": "3223d4e7-964f-415b-92a5-d08470f10682",
   "metadata": {},
   "outputs": [
    {
     "data": {
      "text/plain": [
       "1"
      ]
     },
     "execution_count": 14,
     "metadata": {},
     "output_type": "execute_result"
    }
   ],
   "source": [
    "# creates the linear programming (Lp) problem, setting the problem name and the sense of the problem objective, in such case, \n",
    "# a minimization problem\n",
    "problem = pulp.LpProblem(\"Animal_ration\", pulp.LpMinimize)\n",
    "\n",
    "# creates the variables for the Lp problem, setting a name for each of those variables and a low-bound value (non-negative \n",
    "# restriction)\n",
    "x1 = pulp.LpVariable(\"Bone\", lowBound = 0)\n",
    "x2 = pulp.LpVariable(\"Soy\", lowBound = 0)\n",
    "x3 = pulp.LpVariable(\"Fish\", lowBound = 0)\n",
    "\n",
    "# defines the objective function, which is based on the decision variables (ingredients' percentage: x1, x2 and x3), having as \n",
    "# coefficients the price per Kg of each individual ingredient. If the percentage refers to a Kg reference, the Kg on the numerator \n",
    "# (from the decision variables) would cancel the Kg at the denominator of the price/kg from the coefficients, and only the price \n",
    "# would be the unit for the final sum value, i.e., the final cost price per Kg of the animal feed ration.\n",
    "problem += 0.56*x1 + 0.81*x2 + 0.46*x3, \"Total_cost\"\n",
    "\n",
    "# other than the non-negative restriction already set above, the other restrictions would be: the totalling restriction (sum of \n",
    "# all ingredients) would refer to exactly 1 kg, as well as the percentages (1=100%); the minimum protein percentage per Kg at the \n",
    "# final product, taking into account the percentages of protein at each kg of ingredient; and the minimum calcium percentage per \n",
    "# Kg at the final product, taking into account the percentages of calcium at each Kg of ingredient.\n",
    "problem += 0.2*x1 + 0.5*x2 + 0.4*x3 >= 0.3, \"Minimum_protein\"\n",
    "problem += 0.6*x1 + 0.4*x2 + 0.4*x3 >= 0.5, \"Minimum_calcium\"\n",
    "problem += x1 + x2 + x3 == 1, \"Sum_of_Ingredients\"\n",
    "\n",
    "# initializing and running the solver with the data set at the Lp model. The msg arg here is simply to ommit the verbose \n",
    "# calculation. The results are stored at the problem object for later view.\n",
    "solver = pulp.PULP_CBC_CMD(msg=False)\n",
    "problem.solve(solver)"
   ]
  },
  {
   "cell_type": "code",
   "execution_count": 15,
   "id": "5b534ee2-c9a7-45bb-8648-745511e40710",
   "metadata": {},
   "outputs": [
    {
     "name": "stdout",
     "output_type": "stream",
     "text": [
      "Results:\n",
      "Status: Optimal\n",
      "Minimum cost: $0.51 / Kg\n",
      "Bone: 0.500 kg (50.0%)\n",
      "Soy: 0.000 kg (0.0%)\n",
      "Fish: 0.500 kg (50.0%)\n"
     ]
    }
   ],
   "source": [
    "# Showing the results stored at the problem object, including the status of the problem resolution, the objective function value \n",
    "# (lowest possible cost for the ration per Kg), and the mass and percentage of each product for that final optimal ration formula\n",
    "print(\"Results:\")\n",
    "print(f\"Status: {pulp.LpStatus[problem.status]}\")\n",
    "print(f\"Minimum cost: ${pulp.value(problem.objective):.2f} / Kg\")\n",
    "print(f\"Bone: {x1.varValue:.3f} kg ({x1.varValue:.1%})\")\n",
    "print(f\"Soy: {x2.varValue:.3f} kg ({x2.varValue:.1%})\")\n",
    "print(f\"Fish: {x3.varValue:.3f} kg ({x3.varValue:.1%})\")"
   ]
  },
  {
   "cell_type": "markdown",
   "id": "9978bc95-2939-419b-a8ff-054ecdd4cf61",
   "metadata": {},
   "source": [
    "These are the same optimal values and results achieved when using the Solver at Microsoft Excel or LibreOffice Calc."
   ]
  },
  {
   "cell_type": "markdown",
   "id": "d07f44f9-fdf6-49a9-89fa-b4c86280ff4e",
   "metadata": {},
   "source": [
    "#### Check out another script with another solver lib for this exact same problem here: [ration-problem-lp-cvxpy.ipynb](./ration-problem-lp-cvxpy.ipynb) ."
   ]
  }
 ],
 "metadata": {
  "kernelspec": {
   "display_name": "Python 3 (ipykernel)",
   "language": "python",
   "name": "python3"
  },
  "language_info": {
   "codemirror_mode": {
    "name": "ipython",
    "version": 3
   },
   "file_extension": ".py",
   "mimetype": "text/x-python",
   "name": "python",
   "nbconvert_exporter": "python",
   "pygments_lexer": "ipython3",
   "version": "3.13.5"
  }
 },
 "nbformat": 4,
 "nbformat_minor": 5
}
