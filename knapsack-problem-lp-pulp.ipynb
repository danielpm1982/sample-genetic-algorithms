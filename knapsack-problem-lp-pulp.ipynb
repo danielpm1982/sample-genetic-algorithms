{
 "cells": [
  {
   "cell_type": "markdown",
   "id": "c5565e32-c50a-467a-85cf-5c18f41235b3",
   "metadata": {},
   "source": [
    "## Linear programming using pulp lib - knapsack problem"
   ]
  },
  {
   "cell_type": "markdown",
   "id": "3cb3896e-0b5e-409c-aec7-8c78e5f2c8ad",
   "metadata": {},
   "source": [
    "#### This script exemplifies a problem of filling up a knapsack with travel items - each with an importance value number and mass, by modeling an objective function (maximum importance value items packed), based on decision variables (binary format: 1 - included or 0 - excluded) and some restrictions regarding the total mass of the final knapsack. The objective is to find the most important items that should be included (and the least important ones that should not), so that the maximum importance value sum is reached, for the final set of packaged items. Part of restrictions concerns to the \"weight\" (mass in grams) of the total set of items included. It should be included the most important items but limited to the maximum total weight. After modeling, the solver is used to solve the problem and the results are returned with the final sum of importance values of the items included (objective function's value), as well as the binary flag of inclusion (or not) of each individual item - 0 or 1 (decision variables' values). Here, no evolutionary computation is done (including genetic algorithms), only traditional deterministic linear programming, returning always the same optimal result. For a bigger number of variables, this problem would turn difficult to be computed, if not impossible. Here, only nine decision variables are used."
   ]
  },
  {
   "cell_type": "code",
   "execution_count": 7,
   "id": "e32c109e-37dd-4c40-a986-65fa1c573acc",
   "metadata": {},
   "outputs": [
    {
     "name": "stdout",
     "output_type": "stream",
     "text": [
      "Note: you may need to restart the kernel to use updated packages.\n"
     ]
    }
   ],
   "source": [
    "pip install pulp --quiet # do NOT use Conda for installing this lib module. Only works with pip install"
   ]
  },
  {
   "cell_type": "code",
   "execution_count": 8,
   "id": "485fdf3f-fa31-4e25-8692-26c0af03e280",
   "metadata": {},
   "outputs": [],
   "source": [
    "import pulp"
   ]
  },
  {
   "cell_type": "code",
   "execution_count": 9,
   "id": "3223d4e7-964f-415b-92a5-d08470f10682",
   "metadata": {},
   "outputs": [
    {
     "data": {
      "text/plain": [
       "1"
      ]
     },
     "execution_count": 9,
     "metadata": {},
     "output_type": "execute_result"
    }
   ],
   "source": [
    "# creates the linear programming (Lp) problem, setting the problem name and the sense of the problem objective, in such case, \n",
    "# a maximization problem\n",
    "problem = pulp.LpProblem(\"knapsack\", pulp.LpMaximize)\n",
    "\n",
    "# creates the decision variables for the Lp problem, setting a name for each of those variables and a binary bounds restriction - \n",
    "# 0 or 1)\n",
    "x1 = pulp.LpVariable(\"cereal_bar\", lowBound = 0, upBound = 1, cat = \"Binary\")\n",
    "x2 = pulp.LpVariable(\"coat\", lowBound = 0, upBound = 1, cat = \"Binary\")\n",
    "x3 = pulp.LpVariable(\"tennis\", lowBound = 0, upBound = 1, cat = \"Binary\")\n",
    "x4 = pulp.LpVariable(\"cell_phone\", lowBound = 0, upBound = 1, cat = \"Binary\")\n",
    "x5 = pulp.LpVariable(\"water_bottle\", lowBound = 0, upBound = 1, cat = \"Binary\")\n",
    "x6 = pulp.LpVariable(\"sunscreen\", lowBound = 0, upBound = 1, cat = \"Binary\")\n",
    "x7 = pulp.LpVariable(\"lip_balm\", lowBound = 0, upBound = 1, cat = \"Binary\")\n",
    "x8 = pulp.LpVariable(\"oxygen_bottles\", lowBound = 0, upBound = 1, cat = \"Binary\")\n",
    "x9 = pulp.LpVariable(\"camera\", lowBound = 0, upBound = 1, cat = \"Binary\")\n",
    "\n",
    "# defines the objective function, which is based on the decision variables (0 or 1, from x1 until x9), having as coefficients the \n",
    "# importance value of each individual item. The final value for the function represents the sum of all importance values for all \n",
    "# included items, according to the problem solution. Non-included items will zero its respective addend (and its importance value \n",
    "# as well). Only the importance values of included items will be summed up.\n",
    "problem += 6*x1 + 7*x2 + 3*x3 + 2*x4 + 9*x5+ 5*x6 + 2*x7 + 10*x8 + 6*x9, \"Total_value\"\n",
    "\n",
    "# other than the binary restriction already set above, the other restriction would be: the sum of the mass of all items included \n",
    "# inside the knapsack must not surpass 5000 grams. Coefficients here, instead of the importance value above, represent the mass\n",
    "# (in grams) of each item (which may be included or not). It totalizes only the total mass of items that are ultimately included, \n",
    "# according to the problem solution.\n",
    "problem += 200*x1 + 400*x2 + 400*x3 + 100*x4 + 1000*x5+ 200*x6 + 30*x7 + 3000*x8 + 500*x9 <=5000, \"Total_mass\"\n",
    "\n",
    "# initializing and running the solver with the data set at the Lp model. The msg arg here is simply to ommit the verbose \n",
    "# calculation. The results are stored at the problem object for later view.\n",
    "solver = pulp.PULP_CBC_CMD(msg=False)\n",
    "problem.solve(solver)"
   ]
  },
  {
   "cell_type": "code",
   "execution_count": 10,
   "id": "5b534ee2-c9a7-45bb-8648-745511e40710",
   "metadata": {},
   "outputs": [
    {
     "name": "stdout",
     "output_type": "stream",
     "text": [
      "Results:\n",
      "Status: Optimal\n",
      "Maximum importance value sum: 41\n",
      "Cereal bar: ✅\n",
      "Coat: ✅\n",
      "Tennis: ✅\n",
      "Cell phone: ✅\n",
      "Water bottle: ❌\n",
      "Sunscreen: ✅\n",
      "Lip balm: ✅\n",
      "Oxygen bottles: ✅\n",
      "Camera: ✅\n"
     ]
    }
   ],
   "source": [
    "# Showing the results stored at the problem object, including the status of the problem resolution, the objective function (total \n",
    "# maximum importance value of included items) and the inclusion or not (1 or 0) of each product for that final optimal knapsack \n",
    "# filling set (decision variables)\n",
    "print(\"Results:\")\n",
    "print(f\"Status: {pulp.LpStatus[problem.status]}\")\n",
    "print(f\"Maximum importance value sum: {int(pulp.value(problem.objective))}\")\n",
    "print(f\"Cereal bar: {'✅' if x1.varValue == 1 else '❌'}\")\n",
    "print(f\"Coat: {'✅' if x2.varValue == 1 else '❌'}\")\n",
    "print(f\"Tennis: {'✅' if x3.varValue == 1 else '❌'}\")\n",
    "print(f\"Cell phone: {'✅' if x4.varValue == 1 else '❌'}\")\n",
    "print(f\"Water bottle: {'✅' if x5.varValue == 1 else '❌'}\")\n",
    "print(f\"Sunscreen: {'✅' if x6.varValue == 1 else '❌'}\")\n",
    "print(f\"Lip balm: {'✅' if x7.varValue == 1 else '❌'}\")\n",
    "print(f\"Oxygen bottles: {'✅' if x8.varValue == 1 else '❌'}\")\n",
    "print(f\"Camera: {'✅' if x9.varValue == 1 else '❌'}\")"
   ]
  },
  {
   "cell_type": "markdown",
   "id": "cd0634d9-a8a7-47e6-a3c6-41fd63f0caad",
   "metadata": {},
   "source": [
    "#### As a conclusion, and considering the maximization of value of items included at the knapsack, we could include all except the water bottle, and the restriction <=5000g would have been obeyed. The maximum value for the whole knapsack would be 41. If you change the coefficients at the restriction (mass) or at the objective function (importance value), for one or more of the items, the result will change as well, and the included items set will differ. We have another solution, which would be to include all but the tennis and the camera items. The objective function would also be 41 in value, and the <=5000g restriction would still be obeyed. The only prioritization here is regarding the objective function total value, there's no prioritization regarding the mass (e.g. the lowest possible total mass), as long as the total mass keeps <= 5000g."
   ]
  },
  {
   "cell_type": "code",
   "execution_count": null,
   "id": "b657e3a5-f0d6-41b7-a1fd-0f99c5baccf6",
   "metadata": {},
   "outputs": [],
   "source": []
  }
 ],
 "metadata": {
  "kernelspec": {
   "display_name": "Python 3 (ipykernel)",
   "language": "python",
   "name": "python3"
  },
  "language_info": {
   "codemirror_mode": {
    "name": "ipython",
    "version": 3
   },
   "file_extension": ".py",
   "mimetype": "text/x-python",
   "name": "python",
   "nbconvert_exporter": "python",
   "pygments_lexer": "ipython3",
   "version": "3.13.5"
  }
 },
 "nbformat": 4,
 "nbformat_minor": 5
}
