{
 "cells": [
  {
   "cell_type": "markdown",
   "id": "9e16338d-409e-4319-a63c-885faf7f0d74",
   "metadata": {},
   "source": [
    "## Linear programming using cvxpy lib - animal feed ration problem"
   ]
  },
  {
   "cell_type": "markdown",
   "id": "3cb3896e-0b5e-409c-aec7-8c78e5f2c8ad",
   "metadata": {},
   "source": [
    "#### This script exemplifies a problem of formulating animal feed rations, by modeling an objective function (minimum price), based on decision variables (ingredients' percentage) and some restrictions regarding the ingredients. The objective is to find the percentage or mass of each ingredient (totalling 1=100% or 1kg), so that the minimum price (cost) is reached for the final ration mixture. Part of restrictions concerns to the minimum protein and calcium at the final mixture (in percentage), considering protein and calcium content by each individual ingredient (per kg). After modeling, the solver is used to solve the problem and the results are returned, with the final minimum price of the ration (per kg) (objective function's value), as well as the percentage of each ingredient at that final feed product (decision variables' values). Here, no evolutionary computation is done (including genetic algorithms), only traditional deterministic linear programming, returning always the same optimal result. For a bigger number of variables, this problem would turn difficult to be computed, if not impossible. Here, only three decision variables are used."
   ]
  },
  {
   "cell_type": "code",
   "execution_count": 2,
   "id": "e32c109e-37dd-4c40-a986-65fa1c573acc",
   "metadata": {},
   "outputs": [
    {
     "name": "stdout",
     "output_type": "stream",
     "text": [
      "Note: you may need to restart the kernel to use updated packages.\n"
     ]
    }
   ],
   "source": [
    "pip install cvxpy --quiet"
   ]
  },
  {
   "cell_type": "code",
   "execution_count": 46,
   "id": "485fdf3f-fa31-4e25-8692-26c0af03e280",
   "metadata": {},
   "outputs": [],
   "source": [
    "import cvxpy as cp\n",
    "import numpy as np"
   ]
  },
  {
   "cell_type": "code",
   "execution_count": 47,
   "id": "3223d4e7-964f-415b-92a5-d08470f10682",
   "metadata": {},
   "outputs": [
    {
     "data": {
      "text/plain": [
       "np.float64(0.5100000000722827)"
      ]
     },
     "execution_count": 47,
     "metadata": {},
     "output_type": "execute_result"
    }
   ],
   "source": [
    "# declares the decision variables, as empty placeholders, inside a Variable object (similar to what's done with solver at \n",
    "# spreadsheets). These variables' placeholders will be filled after the solver solution is calculated. All other dependent \n",
    "# variables, calculated from the decision variables, for example, the objective function's and restrictions' values, will then \n",
    "# be calculated and tested against the restrictions' conditions...\n",
    "x_variables = cp.Variable(3, nonneg=True)\n",
    "# => bone percentage (or mass, as a Kg fraction) => x1\n",
    "# => soy percentage (or mass, as a Kg fraction)  => x2\n",
    "# => fish percentage (or mass, as a Kg fraction) => x3\n",
    "# x_variables is NOT an Ndarray, it's an specific object from cvxpy lib called Variable. Therefore, any operation on it, as\n",
    "# the sum() of its elements, must be done through the cvxpy lib own methods (which will know how to deal with Variable objects).\n",
    "\n",
    "# sets the objective function. First creates a cost array to store each decision variable price (per Kg). Next, defines the \n",
    "# objective function as a minimization problem, having as addends the scalar multiplication between each cost_array element \n",
    "# number by each respective x_variables decision variable number, i.e., the price per Kg by the percentage (or Kg fraction) \n",
    "# of each ingredient product, respectively.\n",
    "# After the decision variables are solved, and it's found the optimal composition of ingredients (to minimize the total price), \n",
    "# the objective function can then be calculated. Here, it'll be the minimum price for the final animal feed ration per Kg, while\n",
    "# the x_variables values - the decision variables - will be the ingredients' composition (as a fraction) per Kg of the final \n",
    "# ration.\n",
    "cost_array = np.array([0.56, 0.81, 0.46])\n",
    "objective_function = cp.Minimize(cost_array @ x_variables)\n",
    "\n",
    "# other than the non-negative restriction already set above, we have these other restrictions set here:\n",
    "# => protein per Kg of each ingredient times the percentage (or Kg fraction) of each ingredient in the ration, must be at least \n",
    "# 0.3, that is, at least 0.3 Kg (or 300g) of total protein per Kg of final ration, or 30% of total protein at the final product\n",
    "# => calcium per Kg of each ingredient times the percentage (or Kg fraction) of each ingredient in the ration, must be at least \n",
    "# 0.5, that is, at least 0.5 Kg (or 500g) of total calcium per Kg of final ration, or 50% of total calcium at the final product\n",
    "# => the sum of all x_variables values, i.e., the sum of the values of the decision variables (percentages or Kg fraction of each \n",
    "# ingredient) must be 1 (=100% or 1 Kg per Kg of the final ration composition)\n",
    "restriction_array = [\n",
    "    np.array([0.2,0.5,0.4]) @ x_variables >= 0.3,\n",
    "    np.array([0.6,0.4,0.4]) @ x_variables >= 0.5,\n",
    "    cp.sum(x_variables) == 1 # do not use numpy methods with cvxpy Variable objects, use cvxpy own methods\n",
    "]\n",
    "\n",
    "problem = cp.Problem(objective_function, restriction_array)\n",
    "problem.solve()"
   ]
  },
  {
   "cell_type": "code",
   "execution_count": 48,
   "id": "a013ac03-3ba4-4f4b-93e0-82b5591479a0",
   "metadata": {},
   "outputs": [
    {
     "name": "stdout",
     "output_type": "stream",
     "text": [
      "Results:\n",
      "Status: optimal\n",
      "Minimum cost: $0.51\n",
      "Bone: 0.500 kg (50.0%)\n",
      "Soy: 0.000 kg (0.0%)\n",
      "Fish: 0.500 kg (50.0%)\n"
     ]
    }
   ],
   "source": [
    "# Showing the results stored at the problem object, including the status of the problem resolution, the objective function value \n",
    "# (lowest possible cost for the ration per Kg), and the mass and percentage of each product for that final optimal ration formula\n",
    "print(\"Results:\")\n",
    "print(f\"Status: {problem.status}\")\n",
    "print(f\"Minimum cost: ${problem.value:.2f}\")\n",
    "print(f\"Bone: {x_variables.value[0]:.3f} kg ({x_variables.value[0]:.1%})\")\n",
    "print(f\"Soy: {x_variables.value[1]:.3f} kg ({x_variables.value[1]:.1%})\")\n",
    "print(f\"Fish: {x_variables.value[2]:.3f} kg ({x_variables.value[2]:.1%})\")\n"
   ]
  },
  {
   "cell_type": "markdown",
   "id": "1fc8f6fb-3ebb-4d9b-bc8f-32e99ce6dd9c",
   "metadata": {},
   "source": [
    "These are the same optimal values and results achieved when using the Solver at Microsoft Excel or LibreOffice Calc."
   ]
  },
  {
   "cell_type": "markdown",
   "id": "2c4aab2f-f0c2-4f48-a6b4-6bdc55c62e89",
   "metadata": {},
   "source": [
    "#### This script solves the exact same problem of another script - [ration-problem-lp-pulp.ipynb](./ration-problem-lp-pulp.ipynb) - at this same repository. Except for the libs used, all the rest is the same, including the results. Compare the two scripts for this same problem when using cvxpy and pulp libs. The difference, basically, is that, with cvxpy lib, we can set the decision variables, and later use a numpy ndarray to store the coefficients of the objective function and restrictions... and then simply do a scalar multiplication between these ndarrays with the Variable object containing the decision variables. While with the pulp lib, we have to use String concatenations of expressions already including the coefficients and the decision variables all the time... this might work OK for short number of variables' problems, but, for large number of variables, working with ndarrays and its operations (e.g. scalar multiplication or summation) is quite better and less error-prone."
   ]
  },
  {
   "cell_type": "code",
   "execution_count": null,
   "id": "b39248df-7df7-47b0-87c7-c273e0f23f7d",
   "metadata": {},
   "outputs": [],
   "source": []
  }
 ],
 "metadata": {
  "kernelspec": {
   "display_name": "Python 3 (ipykernel)",
   "language": "python",
   "name": "python3"
  },
  "language_info": {
   "codemirror_mode": {
    "name": "ipython",
    "version": 3
   },
   "file_extension": ".py",
   "mimetype": "text/x-python",
   "name": "python",
   "nbconvert_exporter": "python",
   "pygments_lexer": "ipython3",
   "version": "3.13.5"
  }
 },
 "nbformat": 4,
 "nbformat_minor": 5
}
